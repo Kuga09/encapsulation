{
 "cells": [
  {
   "cell_type": "code",
   "execution_count": 28,
   "metadata": {},
   "outputs": [],
   "source": [
    "import os\n",
    "import pandas as pd\n",
    "from datetime import date, datetime\n",
    "\n",
    "\n",
    "def log(func):\n",
    "    def wrapper(*args, **kwargs):\n",
    "        original_result = func(*args, **kwargs)\n",
    "\n",
    "        username = os.getlogin()\n",
    "        func_name = func.__name__\n",
    "        formatted_date = date.today().strftime(\"%d-%m-%Y\")\n",
    "        formatted_time = datetime.now().strftime(\"%H:%M:%S\")\n",
    "        \n",
    "        if os.path.exists(\"logs.csv\"):\n",
    "            file_df = pd.read_csv('logs.csv')\n",
    "            df = pd.DataFrame([len(file_df),username,func_name,formatted_date,formatted_time],\n",
    "            columns = ['id','username','func_name','formatted_date','formatted_time'])\n",
    "            df.to_csv('logs.csv', mode = 'a', index = False)\n",
    "        else:\n",
    "            df = pd.DataFrame([0,username,func_name,formatted_date,formatted_time],\n",
    "            columns = ['id','username','func_name','formatted_date','formatted_time'])\n",
    "            df.to_csv('logs.csv')\n",
    "\n",
    "        return original_result\n",
    "    return wrapper\n",
    "\n",
    "\n",
    "@log\n",
    "def hello():\n",
    "    print('Hello')"
   ]
  },
  {
   "cell_type": "code",
   "execution_count": null,
   "metadata": {},
   "outputs": [],
   "source": []
  },
  {
   "cell_type": "code",
   "execution_count": 39,
   "metadata": {},
   "outputs": [
    {
     "data": {
      "text/plain": [
       "'15:50:05'"
      ]
     },
     "execution_count": 39,
     "metadata": {},
     "output_type": "execute_result"
    }
   ],
   "source": [
    "formatted_date = date.today().strftime(\"%d-%m-%Y\")\n",
    "formatted_time = datetime.now().strftime(\"%H:%M:%S\")\n",
    "formatted_time"
   ]
  }
 ],
 "metadata": {
  "kernelspec": {
   "display_name": "Python 3",
   "language": "python",
   "name": "python3"
  },
  "language_info": {
   "codemirror_mode": {
    "name": "ipython",
    "version": 3
   },
   "file_extension": ".py",
   "mimetype": "text/x-python",
   "name": "python",
   "nbconvert_exporter": "python",
   "pygments_lexer": "ipython3",
   "version": "3.12.3"
  }
 },
 "nbformat": 4,
 "nbformat_minor": 2
}
